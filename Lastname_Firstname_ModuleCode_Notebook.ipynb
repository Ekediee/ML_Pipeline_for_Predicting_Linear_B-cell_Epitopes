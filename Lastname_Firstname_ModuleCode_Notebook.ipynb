{
 "cells": [
  {
   "cell_type": "markdown",
   "id": "908a9144-f2d4-4f37-9a45-17cb3eb8a068",
   "metadata": {},
   "source": [
    "# Machine Learning model for Predicting Linear B-cell Epitopes Using High-Dimensional Protein Features\n",
    "\n",
    "## Introduction\n",
    "B-cell epitopes are specific regions on the surface of antigens that are recognized by B-cell receptors and antibodies. Accurate prediction of these linear B-cell epitopes plays a critical role in accelerating vaccine development, diagnostics, and immunotherapy design. However, experimental identification of epitopes is often costly, time-consuming, and limited by biological constraints. Hence, computational methods have emerged as essential tools for screening and prioritizing candidate epitopes.\n",
    "\n",
    "This coursework aims to tackle the epitope prediction problem using a high-dimensional dataset that was derived from protein sequences, embedded using the ESM-1b model. The dataset contains over 1,200 features per observation and a class label indicating whether or not the protein segment is an epitope.\n",
    "\n",
    "### Process flow and goals\n",
    "To solve this problem, I will design a data mining pipeline that will comprise the following four core stages:\n",
    "\n",
    "**Exploratory Data Analysis (EDA):**\n",
    "\n",
    "- Understand the data distribution, missing values, outliers, feature types, and class balance.\n",
    "\n",
    "- Apply visualisation and summarisation techniques to draw insights from high-dimensional data.\n",
    "\n",
    "**Data Preprocessing and Feature Engineering:**\n",
    "\n",
    "- Drop non-informative metadata (Info_ columns).\n",
    "\n",
    "- Apply standard scaling and handle any missing values.\n",
    "\n",
    "- Reduce dimensionality using unsupervised and/or supervised methods (e.g., PCA, mutual information).\n",
    "\n",
    "- Address class imbalance using techniques such as SMOTE or cost-sensitive learning.\n",
    "\n",
    "**Modelling:**\n",
    "\n",
    "- Train and evaluate multiple classifiers, including Random Forest, XGBoost, and Logistic Regression.\n",
    "\n",
    "- Use GroupKFold based on Info_cluster to ensure grouped cross-validation and prevent data leakage.\n",
    "\n",
    "- Select the model with the highest balanced accuracy, a metric well-suited to imbalanced classification.\n",
    "\n",
    "**Conclusion and Recommendations:**\n",
    "\n",
    "- Summarize key findings from the EDA, modelling results, and final pipeline performance.\n",
    "\n",
    "- Offer recommendations for future epitope prediction systems and model refinement.\n",
    "\n",
    "\n"
   ]
  },
  {
   "cell_type": "code",
   "execution_count": 2,
   "id": "034eca9b-a583-4098-aa33-135c8445080c",
   "metadata": {},
   "outputs": [],
   "source": [
    "# Import necessary libraries - initials\n",
    "import pandas as pd\n",
    "import numpy as np\n",
    "import seaborn as sns\n",
    "import matplotlib.pyplot as plt"
   ]
  },
  {
   "cell_type": "code",
   "execution_count": 6,
   "id": "19544fd7-66f3-4363-893f-641a12ae4175",
   "metadata": {},
   "outputs": [],
   "source": [
    "# Load the dataset\n",
    "df = pd.read_csv('df.csv', sep=';', engine='python')"
   ]
  },
  {
   "cell_type": "markdown",
   "id": "e89f924a-6bdb-4013-ab95-bb8bc6d84e07",
   "metadata": {},
   "source": [
    "## Explore and Understand the data\n",
    "\n",
    "Exploratory Data Analysis (EDA) will help me to understand the structure, distributions, class balance, and any data quality issues within the dataset, providing insights on the next appropriate step.\n",
    "\n",
    "### Basic EDA\n",
    "This will give us basic information about the data such as feature categories, datatypes, missing values, and distribution of outcome class."
   ]
  },
  {
   "cell_type": "code",
   "execution_count": 19,
   "id": "3861fca3-9ef6-46ba-9a71-08ba14f65a49",
   "metadata": {},
   "outputs": [
    {
     "name": "stdout",
     "output_type": "stream",
     "text": [
      "\n",
      "Data Shape:\n",
      "(49606, 1291)\n",
      "\n",
      "Feature Categories:\n",
      "Info columns: 9\n",
      "Feature columns: 1281\n",
      "Target column: Class\n",
      "\n",
      "Data types:\n",
      "float64    1281\n",
      "object        6\n",
      "int64         4\n",
      "Name: count, dtype: int64\n",
      "\n",
      "Missing values:\n",
      "feat_esm1b_148     44655\n",
      "feat_esm1b_1121       88\n",
      "feat_esm1b_469        88\n",
      "feat_esm1b_332        88\n",
      "feat_esm1b_56         88\n",
      "feat_esm1b_537        88\n",
      "feat_esm1b_634        88\n",
      "feat_esm1b_728        88\n",
      "feat_esm1b_645        88\n",
      "feat_esm1b_646        88\n",
      "dtype: int64\n",
      "\n",
      "Class distribution:\n",
      "Class\n",
      "-1    0.983691\n",
      " 1    0.016309\n",
      "Name: proportion, dtype: float64\n"
     ]
    },
    {
     "data": {
      "image/png": "[encoded data removed]",
      "text/plain": [
       "<Figure size 640x480 with 1 Axes>"
      ]
     },
     "metadata": {},
     "output_type": "display_data"
    }
   ],
   "source": [
    "# General overview of the dataset\n",
    "print(\"\\nData Shape:\")\n",
    "print(df.shape)\n",
    "\n",
    "# Split column groups to understand the number of features in each category\n",
    "print(\"\\nFeature Categories:\")\n",
    "info_cols = [col for col in df.columns if col.startswith('Info_')]\n",
    "feat_cols = [col for col in df.columns if col.startswith('feat_')]\n",
    "target_col = 'Class'\n",
    "\n",
    "print(f\"Info columns: {len(info_cols)}\")\n",
    "print(f\"Feature columns: {len(feat_cols)}\")\n",
    "print(f\"Target column: {target_col}\")\n",
    "\n",
    "# Understanding the basic structure of data - data types andd mssing values\n",
    "print(\"\\nData types:\")\n",
    "print(df.dtypes.value_counts())\n",
    "\n",
    "print(\"\\nMissing values:\")\n",
    "print(df.isnull().sum().sort_values(ascending=False).head(10))\n",
    "\n",
    "# Exploring the class distribution\n",
    "print(\"\\nClass distribution:\")\n",
    "print(df[target_col].value_counts(normalize=True))\n",
    "\n",
    "sns.countplot(data=df, x=target_col)\n",
    "plt.title(\"Class Distribution\")\n",
    "plt.show()"
   ]
  },
  {
   "cell_type": "markdown",
   "id": "36ddd31e-0ccd-4722-8a6d-432705f106aa",
   "metadata": {},
   "source": [
    "Key findings \n",
    "> The data is made up of 49,606 rows and 1,291 columns - out of which 99.2% of the columns are features, and 0.69% are Info columns - indication highly dimensional features\n",
    "> The feature - `feat_esm1b_148` has the highest number of missing values - 90%\n"
   ]
  },
  {
   "cell_type": "code",
   "execution_count": null,
   "id": "37e45c78-9cd9-42f8-9349-b9a830f5ac98",
   "metadata": {},
   "outputs": [],
   "source": []
  }
 ],
 "metadata": {
  "kernelspec": {
   "display_name": "Python 3 (ipykernel)",
   "language": "python",
   "name": "python3"
  },
  "language_info": {
   "codemirror_mode": {
    "name": "ipython",
    "version": 3
   },
   "file_extension": ".py",
   "mimetype": "text/x-python",
   "name": "python",
   "nbconvert_exporter": "python",
   "pygments_lexer": "ipython3",
   "version": "3.12.7"
  }
 },
 "nbformat": 4,
 "nbformat_minor": 5
}
